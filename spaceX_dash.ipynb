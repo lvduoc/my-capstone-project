{
  "nbformat": 4,
  "nbformat_minor": 0,
  "metadata": {
    "colab": {
      "provenance": []
    },
    "kernelspec": {
      "name": "python3",
      "display_name": "Python 3"
    },
    "language_info": {
      "name": "python"
    }
  },
  "cells": [
    {
      "cell_type": "code",
      "execution_count": null,
      "metadata": {
        "id": "nKk1ptAPWt-Q"
      },
      "outputs": [],
      "source": [
        "#!pip install dash"
      ]
    },
    {
      "cell_type": "markdown",
      "source": [
        "task 1"
      ],
      "metadata": {
        "id": "RjguM17SjMZF"
      }
    },
    {
      "cell_type": "code",
      "source": [
        "import dash\n",
        "import dash_core_components as dcc\n",
        "import dash_html_components as html\n",
        "from dash.dependencies import Input, Output\n",
        "import plotly.express as px\n",
        "import pandas as pd\n",
        "\n",
        "spacex_df = pd.read_csv('/content/spacex_launch_dash.csv')\n",
        "\n",
        "launch_sites = spacex_df['Launch Site'].unique()\n",
        "\n",
        "site_dropdown = dcc.Dropdown(\n",
        "    id='site-dropdown',\n",
        "    options=[\n",
        "        {'label': 'Tất cả các bệ', 'value': 'ALL'}\n",
        "    ] + [{'label': site, 'value': site} for site in launch_sites],\n",
        "    value='ALL',\n",
        "    placeholder='Chọn bệ phóng',\n",
        "    searchable=True\n",
        ")\n",
        "\n",
        "app = dash.Dash(__name__)\n",
        "\n",
        "app.layout = html.Div([\n",
        "    html.H1('Dashboard SpaceX'),\n",
        "    site_dropdown\n",
        "])"
      ],
      "metadata": {
        "id": "ONZ8wcePXZMe"
      },
      "execution_count": null,
      "outputs": []
    },
    {
      "cell_type": "markdown",
      "source": [
        "task 2"
      ],
      "metadata": {
        "id": "_qBs0KwfYogJ"
      }
    },
    {
      "cell_type": "code",
      "source": [
        "# Hàm callback để render biểu đồ tròn thành công\n",
        "@app.callback(\n",
        "    Output('success-pie-chart', 'figure'),\n",
        "    Input('site-dropdown', 'value')\n",
        ")\n",
        "def get_pie_chart(entered_site):\n",
        "    if entered_site == 'ALL':\n",
        "        fig = px.pie(spacex_df, names='class', title='Tỷ lệ thành công tổng thể')\n",
        "    else:\n",
        "        filtered_df = spacex_df[spacex_df['Launch Site'] == entered_site]\n",
        "        fig = px.pie(filtered_df, names='class', title=f'Tỷ lệ thành công tại {entered_site}')\n",
        "    return fig"
      ],
      "metadata": {
        "id": "vrVdfFxVYmrn"
      },
      "execution_count": null,
      "outputs": []
    },
    {
      "cell_type": "markdown",
      "source": [
        "task 3"
      ],
      "metadata": {
        "id": "OQgxn3jDYswR"
      }
    },
    {
      "cell_type": "code",
      "source": [
        "payload_slider = dcc.RangeSlider(\n",
        "    id='payload-slider',\n",
        "    min=0,\n",
        "    max=10000,\n",
        "    step=1000,\n",
        "    marks={\n",
        "        0: '0 Kg',\n",
        "        5000: '5000 Kg',\n",
        "        10000: '10000 Kg'\n",
        "    },\n",
        "    value=[spacex_df['Payload Mass (kg)'].min(), spacex_df['Payload Mass (kg)'].max()]\n",
        ")\n",
        "\n",
        "app.layout = html.Div([\n",
        "    html.H1('Dashboard SpaceX'),\n",
        "    site_dropdown,\n",
        "    dcc.Graph(id='success-pie-chart'),\n",
        "    html.Label('Chọn phạm vi trọng tải (Kg):'),\n",
        "    payload_slider\n",
        "])"
      ],
      "metadata": {
        "id": "g32YE2NXYnt1"
      },
      "execution_count": null,
      "outputs": []
    },
    {
      "cell_type": "markdown",
      "source": [
        "task 4"
      ],
      "metadata": {
        "id": "IAvksbkBYxA6"
      }
    },
    {
      "cell_type": "code",
      "source": [
        "@app.callback(\n",
        "    Output('success-payload-scatter-chart', 'figure'),\n",
        "    [Input('site-dropdown', 'value'),\n",
        "     Input('payload-slider', 'value')]\n",
        ")\n",
        "def render_scatter_plot(selected_site, payload_range):\n",
        "    import pandas as pd\n",
        "    import plotly.express as px\n",
        "\n",
        "    if selected_site == 'ALL':\n",
        "        filtered_df = spacex_df[(spacex_df['Payload Mass (kg)'] >= payload_range[0]) &\n",
        "                                (spacex_df['Payload Mass (kg)'] <= payload_range[1])]\n",
        "    else:\n",
        "        filtered_df = spacex_df[(spacex_df['Launch Site'] == selected_site) &\n",
        "                                (spacex_df['Payload Mass (kg)'] >= payload_range[0]) &\n",
        "                                (spacex_df['Payload Mass (kg)'] <= payload_range[1])]\n",
        "\n",
        "    fig = px.scatter(filtered_df, x='Payload Mass (kg)', y='class', color='Booster Version Category')\n",
        "    fig.update_layout(title='Mối quan hệ giữa trọng tải và kết quả phóng')\n",
        "    return fig\n",
        "\n",
        "app.layout = html.Div([\n",
        "    html.H1('Dashboard SpaceX'),\n",
        "    site_dropdown,\n",
        "    dcc.Graph(id='success-pie-chart'),\n",
        "    html.Label('Chọn phạm vi trọng tải (Kg):'),\n",
        "    payload_slider,\n",
        "    dcc.Graph(id='success-payload-scatter-chart')\n",
        "])"
      ],
      "metadata": {
        "id": "lgXxzY-3YsJp"
      },
      "execution_count": null,
      "outputs": []
    },
    {
      "cell_type": "code",
      "source": [
        "if __name__ == '__main__':\n",
        "    app.run_server()"
      ],
      "metadata": {
        "colab": {
          "base_uri": "https://localhost:8080/",
          "height": 671
        },
        "id": "-QL3UTRYYwat",
        "outputId": "13223e34-3555-4e5c-f38f-f6beb6cb77d3"
      },
      "execution_count": null,
      "outputs": [
        {
          "output_type": "display_data",
          "data": {
            "text/plain": [
              "<IPython.core.display.Javascript object>"
            ],
            "application/javascript": [
              "(async (port, path, width, height, cache, element) => {\n",
              "    if (!google.colab.kernel.accessAllowed && !cache) {\n",
              "      return;\n",
              "    }\n",
              "    element.appendChild(document.createTextNode(''));\n",
              "    const url = await google.colab.kernel.proxyPort(port, {cache});\n",
              "    const iframe = document.createElement('iframe');\n",
              "    iframe.src = new URL(path, url).toString();\n",
              "    iframe.height = height;\n",
              "    iframe.width = width;\n",
              "    iframe.style.border = 0;\n",
              "    iframe.allow = [\n",
              "        'accelerometer',\n",
              "        'autoplay',\n",
              "        'camera',\n",
              "        'clipboard-read',\n",
              "        'clipboard-write',\n",
              "        'gyroscope',\n",
              "        'magnetometer',\n",
              "        'microphone',\n",
              "        'serial',\n",
              "        'usb',\n",
              "        'xr-spatial-tracking',\n",
              "    ].join('; ');\n",
              "    element.appendChild(iframe);\n",
              "  })(8050, \"/\", \"100%\", 650, false, window.element)"
            ]
          },
          "metadata": {}
        }
      ]
    }
  ]
}